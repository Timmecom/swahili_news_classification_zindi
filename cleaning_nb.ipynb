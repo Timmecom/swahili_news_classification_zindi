{
 "cells": [
  {
   "cell_type": "code",
   "execution_count": 1,
   "id": "f49c1122",
   "metadata": {},
   "outputs": [],
   "source": [
    "import pandas as pd\n",
    "import re\n",
    "import os\n",
    "from pathlib import Path"
   ]
  },
  {
   "cell_type": "code",
   "execution_count": 2,
   "id": "692d9e71",
   "metadata": {},
   "outputs": [],
   "source": [
    "datasets_path = Path(\"datasets\")\n",
    "\n",
    "train = pd.read_csv(datasets_path/\"Train.csv\")\n",
    "test = pd.read_csv(datasets_path/\"Test.csv\")"
   ]
  },
  {
   "cell_type": "code",
   "execution_count": 3,
   "id": "20430539",
   "metadata": {},
   "outputs": [
    {
     "data": {
      "text/html": [
       "<div>\n",
       "<style scoped>\n",
       "    .dataframe tbody tr th:only-of-type {\n",
       "        vertical-align: middle;\n",
       "    }\n",
       "\n",
       "    .dataframe tbody tr th {\n",
       "        vertical-align: top;\n",
       "    }\n",
       "\n",
       "    .dataframe thead th {\n",
       "        text-align: right;\n",
       "    }\n",
       "</style>\n",
       "<table border=\"1\" class=\"dataframe\">\n",
       "  <thead>\n",
       "    <tr style=\"text-align: right;\">\n",
       "      <th></th>\n",
       "      <th>id</th>\n",
       "      <th>content</th>\n",
       "      <th>category</th>\n",
       "    </tr>\n",
       "  </thead>\n",
       "  <tbody>\n",
       "    <tr>\n",
       "      <th>0</th>\n",
       "      <td>SW0</td>\n",
       "      <td>SERIKALI imesema haitakuwa tayari kuona amani...</td>\n",
       "      <td>Kitaifa</td>\n",
       "    </tr>\n",
       "    <tr>\n",
       "      <th>1</th>\n",
       "      <td>SW1</td>\n",
       "      <td>Mkuu wa Mkoa wa Tabora, Aggrey Mwanri amesiti...</td>\n",
       "      <td>Biashara</td>\n",
       "    </tr>\n",
       "    <tr>\n",
       "      <th>2</th>\n",
       "      <td>SW10</td>\n",
       "      <td>SERIKALI imetoa miezi sita kwa taasisi zote z...</td>\n",
       "      <td>Kitaifa</td>\n",
       "    </tr>\n",
       "  </tbody>\n",
       "</table>\n",
       "</div>"
      ],
      "text/plain": [
       "     id                                            content  category\n",
       "0   SW0   SERIKALI imesema haitakuwa tayari kuona amani...   Kitaifa\n",
       "1   SW1   Mkuu wa Mkoa wa Tabora, Aggrey Mwanri amesiti...  Biashara\n",
       "2  SW10   SERIKALI imetoa miezi sita kwa taasisi zote z...   Kitaifa"
      ]
     },
     "execution_count": 3,
     "metadata": {},
     "output_type": "execute_result"
    }
   ],
   "source": [
    "train.head(3)"
   ]
  },
  {
   "cell_type": "code",
   "execution_count": 4,
   "id": "cf3d0cdd",
   "metadata": {},
   "outputs": [],
   "source": [
    "def clean_row(x):\n",
    "    x = ''.join(x.split('\\'')).strip('[]')\n",
    "    return re.sub(r\"[^\\x00-\\x7F]\", ' ', x)\n",
    "\n",
    "train['content_cleaned'] = train['content'].apply(clean_row)\n",
    "test['content_cleaned'] = test['content'].apply(clean_row)"
   ]
  },
  {
   "cell_type": "code",
   "execution_count": 5,
   "id": "3d6643ee",
   "metadata": {},
   "outputs": [
    {
     "data": {
      "text/html": [
       "<div>\n",
       "<style scoped>\n",
       "    .dataframe tbody tr th:only-of-type {\n",
       "        vertical-align: middle;\n",
       "    }\n",
       "\n",
       "    .dataframe tbody tr th {\n",
       "        vertical-align: top;\n",
       "    }\n",
       "\n",
       "    .dataframe thead th {\n",
       "        text-align: right;\n",
       "    }\n",
       "</style>\n",
       "<table border=\"1\" class=\"dataframe\">\n",
       "  <thead>\n",
       "    <tr style=\"text-align: right;\">\n",
       "      <th></th>\n",
       "      <th>id</th>\n",
       "      <th>content</th>\n",
       "      <th>category</th>\n",
       "      <th>content_cleaned</th>\n",
       "    </tr>\n",
       "  </thead>\n",
       "  <tbody>\n",
       "    <tr>\n",
       "      <th>0</th>\n",
       "      <td>SW0</td>\n",
       "      <td>SERIKALI imesema haitakuwa tayari kuona amani...</td>\n",
       "      <td>Kitaifa</td>\n",
       "      <td>SERIKALI imesema haitakuwa tayari kuona amani...</td>\n",
       "    </tr>\n",
       "    <tr>\n",
       "      <th>1</th>\n",
       "      <td>SW1</td>\n",
       "      <td>Mkuu wa Mkoa wa Tabora, Aggrey Mwanri amesiti...</td>\n",
       "      <td>Biashara</td>\n",
       "      <td>Mkuu wa Mkoa wa Tabora, Aggrey Mwanri amesiti...</td>\n",
       "    </tr>\n",
       "    <tr>\n",
       "      <th>2</th>\n",
       "      <td>SW10</td>\n",
       "      <td>SERIKALI imetoa miezi sita kwa taasisi zote z...</td>\n",
       "      <td>Kitaifa</td>\n",
       "      <td>SERIKALI imetoa miezi sita kwa taasisi zote z...</td>\n",
       "    </tr>\n",
       "  </tbody>\n",
       "</table>\n",
       "</div>"
      ],
      "text/plain": [
       "     id                                            content  category  \\\n",
       "0   SW0   SERIKALI imesema haitakuwa tayari kuona amani...   Kitaifa   \n",
       "1   SW1   Mkuu wa Mkoa wa Tabora, Aggrey Mwanri amesiti...  Biashara   \n",
       "2  SW10   SERIKALI imetoa miezi sita kwa taasisi zote z...   Kitaifa   \n",
       "\n",
       "                                     content_cleaned  \n",
       "0   SERIKALI imesema haitakuwa tayari kuona amani...  \n",
       "1   Mkuu wa Mkoa wa Tabora, Aggrey Mwanri amesiti...  \n",
       "2   SERIKALI imetoa miezi sita kwa taasisi zote z...  "
      ]
     },
     "execution_count": 5,
     "metadata": {},
     "output_type": "execute_result"
    }
   ],
   "source": [
    "train.head(3)"
   ]
  },
  {
   "cell_type": "code",
   "execution_count": 6,
   "id": "afb14dd7",
   "metadata": {},
   "outputs": [],
   "source": [
    "train_path = Path('train')\n",
    "if not train_path.exists():\n",
    "    os.mkdir('train')\n",
    "    \n",
    "test_path = Path('test')\n",
    "if not test_path.exists():\n",
    "    os.mkdir('test')"
   ]
  },
  {
   "cell_type": "code",
   "execution_count": 7,
   "id": "cfb43a7c",
   "metadata": {},
   "outputs": [],
   "source": [
    "train.to_csv(train_path/'Train.csv',index=False)\n",
    "test.to_csv(test_path/'Test.csv',index=False)"
   ]
  },
  {
   "cell_type": "code",
   "execution_count": 8,
   "id": "7cdbd7b6",
   "metadata": {},
   "outputs": [
    {
     "data": {
      "text/plain": [
       "['Kitaifa', 'Biashara', 'michezo', 'Kimataifa', 'Burudani']"
      ]
     },
     "execution_count": 8,
     "metadata": {},
     "output_type": "execute_result"
    }
   ],
   "source": [
    "list(train.category.unique())"
   ]
  },
  {
   "cell_type": "code",
   "execution_count": 9,
   "id": "4b5cfc14",
   "metadata": {},
   "outputs": [],
   "source": [
    "next_paths = list(train.category.unique())\n",
    "for bp in next_paths:\n",
    "    new_path = train_path/bp\n",
    "    if not Path(new_path).exists():\n",
    "        os.mkdir(new_path)"
   ]
  },
  {
   "cell_type": "code",
   "execution_count": 10,
   "id": "33108fff",
   "metadata": {},
   "outputs": [],
   "source": [
    "for i in train.index:\n",
    "    filename = train_path/f'{train.loc[i,\"id\"]}.txt'\n",
    "    with open(filename,'w') as f:\n",
    "        f.write(train.loc[i,'content_cleaned'])"
   ]
  },
  {
   "cell_type": "code",
   "execution_count": 11,
   "id": "f985b012",
   "metadata": {},
   "outputs": [],
   "source": [
    "for i in test.index:\n",
    "    filename = test_path/f'{test.loc[i,\"swahili_id\"]}.txt'\n",
    "    with open(filename,'w') as f:\n",
    "        f.write(test.loc[i,'content_cleaned'])"
   ]
  },
  {
   "cell_type": "code",
   "execution_count": null,
   "id": "cca3ad7d",
   "metadata": {},
   "outputs": [],
   "source": []
  }
 ],
 "metadata": {
  "kernelspec": {
   "display_name": "Python 3 (ipykernel)",
   "language": "python",
   "name": "python3"
  },
  "language_info": {
   "codemirror_mode": {
    "name": "ipython",
    "version": 3
   },
   "file_extension": ".py",
   "mimetype": "text/x-python",
   "name": "python",
   "nbconvert_exporter": "python",
   "pygments_lexer": "ipython3",
   "version": "3.9.12"
  }
 },
 "nbformat": 4,
 "nbformat_minor": 5
}
